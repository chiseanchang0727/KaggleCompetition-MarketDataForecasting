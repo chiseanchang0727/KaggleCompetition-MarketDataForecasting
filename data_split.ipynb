{
 "cells": [
  {
   "cell_type": "code",
   "execution_count": 1,
   "metadata": {},
   "outputs": [],
   "source": [
    "import os\n",
    "from dotenv import load_dotenv\n",
    "\n",
    "import polars as pl\n",
    "import pandas as pd\n",
    "\n",
    "import matplotlib.pyplot as plt"
   ]
  },
  {
   "cell_type": "code",
   "execution_count": 2,
   "metadata": {},
   "outputs": [],
   "source": [
    "load_dotenv(dotenv_path='.env')\n",
    "\n",
    "if load_dotenv(dotenv_path='.env'):\n",
    "    train_path = os.getenv('TRAIN_PATH')\n",
    "else: \n",
    "    print(\"\")\n",
    "    # kaggle data path"
   ]
  },
  {
   "cell_type": "code",
   "execution_count": 3,
   "metadata": {},
   "outputs": [
    {
     "data": {
      "text/plain": [
       "'./data/train.parquet/'"
      ]
     },
     "execution_count": 3,
     "metadata": {},
     "output_type": "execute_result"
    }
   ],
   "source": [
    "train_path"
   ]
  },
  {
   "cell_type": "code",
   "execution_count": 4,
   "metadata": {},
   "outputs": [],
   "source": [
    "df_raw_data = pl.DataFrame()\n",
    "for folder in os.listdir(train_path):\n",
    "    for i in range(2):\n",
    "        file_path = os.path.join(train_path, f'partition_id={i}', 'part-0.parquet')\n",
    "        part = pl.read_parquet(file_path)\n",
    "        \n",
    "        df_raw_data = pl.concat([df_raw_data, part])"
   ]
  },
  {
   "cell_type": "code",
   "execution_count": 5,
   "metadata": {},
   "outputs": [],
   "source": [
    "symbol_list = df_raw_data.select(\"symbol_id\").unique().to_series().to_list()"
   ]
  },
  {
   "cell_type": "code",
   "execution_count": 9,
   "metadata": {},
   "outputs": [],
   "source": [
    "for symbol in symbol_list:\n",
    "    df_symbol = df_raw_data.filter(pl.col('symbol_id') == symbol)\n",
    "    output_file = os.path.join(folder_path, f'df_symbol_{symbol}.parquet')\n",
    "    df_symbol.write_parquet(file=output_file)"
   ]
  }
 ],
 "metadata": {
  "kernelspec": {
   "display_name": "janestreetforecasting",
   "language": "python",
   "name": "python3"
  },
  "language_info": {
   "codemirror_mode": {
    "name": "ipython",
    "version": 3
   },
   "file_extension": ".py",
   "mimetype": "text/x-python",
   "name": "python",
   "nbconvert_exporter": "python",
   "pygments_lexer": "ipython3",
   "version": "3.10.15"
  }
 },
 "nbformat": 4,
 "nbformat_minor": 2
}
